{
  "nbformat": 4,
  "nbformat_minor": 0,
  "metadata": {
    "colab": {
      "name": "ES_DE.ipynb",
      "provenance": [],
      "authorship_tag": "ABX9TyNKhVIO84fvNpWXdsaolcS/",
      "include_colab_link": true
    },
    "kernelspec": {
      "name": "python3",
      "display_name": "Python 3"
    },
    "language_info": {
      "name": "python"
    }
  },
  "cells": [
    {
      "cell_type": "markdown",
      "metadata": {
        "id": "view-in-github",
        "colab_type": "text"
      },
      "source": [
        "<a href=\"https://colab.research.google.com/github/lialic/Neural-network-and-Genetic-algorithm/blob/master/ES_DE.ipynb\" target=\"_parent\"><img src=\"https://colab.research.google.com/assets/colab-badge.svg\" alt=\"Open In Colab\"/></a>"
      ]
    },
    {
      "cell_type": "markdown",
      "metadata": {
        "id": "HSPZ4Gz4Wfa9"
      },
      "source": [
        "# Import all the necessary libraries"
      ]
    },
    {
      "cell_type": "code",
      "metadata": {
        "id": "lGMr72D-WLAI"
      },
      "source": [
        "import numpy as np\n",
        "from numpy import meshgrid\n",
        "import matplotlib.pyplot as plt\n",
        "import matplotlib\n",
        "from scipy.spatial import distance"
      ],
      "execution_count": null,
      "outputs": []
    },
    {
      "cell_type": "markdown",
      "metadata": {
        "id": "kjn5NJkuX1D0"
      },
      "source": [
        "## Mounting drive for easier storing"
      ]
    },
    {
      "cell_type": "code",
      "metadata": {
        "colab": {
          "base_uri": "https://localhost:8080/"
        },
        "id": "xHemI3IBXtWW",
        "outputId": "664b1de0-ad9b-4824-944f-447e50e67af0"
      },
      "source": [
        "from google.colab import drive\n",
        "drive.mount('/content/gdrive')"
      ],
      "execution_count": null,
      "outputs": [
        {
          "output_type": "stream",
          "name": "stdout",
          "text": [
            "Mounted at /content/gdrive\n"
          ]
        }
      ]
    },
    {
      "cell_type": "markdown",
      "metadata": {
        "id": "OQXe80crWpFa"
      },
      "source": [
        "# Then, we introduce all of the function that we want to maximize it"
      ]
    },
    {
      "cell_type": "code",
      "metadata": {
        "id": "UlIpM7aPWeOr"
      },
      "source": [
        "def Rastrigin_Function(x):\n",
        "    if isinstance(X, (list, tuple)):\n",
        "        x = np.array(x)\n",
        "\n",
        "    return 10 * x.shape[0] + np.sum(x**2 - 10 * np.cos(2* np.pi * x))\n",
        "\n",
        "def Ackley_Function(x):\n",
        "    if isinstance(x, (list, tuple)):\n",
        "        x = np.array(x)\n",
        "\n",
        "    p1 = -0.2 * np.sqrt(0.5 * np.sum(x**2))\n",
        "    p2 = 0.5 * np.sum(np.cos(np.pi*x))\n",
        "\n",
        "    return -20 * np.exp(p1) - np.exp(p2) + np.e + 20\n",
        "\n",
        "def RosenBrock_Function(x):\n",
        "    if isinstance(x, (list, tuple)):\n",
        "        x = np.array(x)\n",
        "\n",
        "    return np.sum(100 * (x[1:] - x[:-1]**2)**2 + (1 - x[:-1])**2) \n",
        "\n",
        "def Sphere_Function(x):\n",
        "    if isinstance(x, (list, tuple)):\n",
        "        x = np.array(x)\n",
        "\n",
        "    return np.sum(x**2)"
      ],
      "execution_count": null,
      "outputs": []
    },
    {
      "cell_type": "code",
      "metadata": {
        "id": "C0WQk_qIYsj7"
      },
      "source": [
        "Rastrigin = {\n",
        "    'search_domain': (-5.12, 5.12),\n",
        "    'formula': Rastrigin_Function,\n",
        "    'global_minimum': 0,\n",
        "    'name': 'Rastrigin'\n",
        "}\n",
        "\n",
        "Ackley = {\n",
        "    'search_domain': (-5, 5),\n",
        "    'formula': Ackley_Function,\n",
        "    'global_minimum': 0,\n",
        "    'name': 'Ackley'\n",
        "}\n",
        "\n",
        "RosenBrock = {\n",
        "    'search_domain': (-128, 128),\n",
        "    'formula': RosenBrock_Function,\n",
        "    'global_minimum': 0,\n",
        "    'name': 'RosenBrock'\n",
        "}   \n",
        "\n",
        "Sphere = {\n",
        "    'search_domain': (-np.inf, np.inf),\n",
        "    'formula': Sphere_Function,\n",
        "    'global_minimum': 0,\n",
        "    'name': 'Sphere'\n",
        "}"
      ],
      "execution_count": null,
      "outputs": []
    },
    {
      "cell_type": "markdown",
      "metadata": {
        "id": "1bOwyHpOaGx3"
      },
      "source": [
        "# (1+1) ES"
      ]
    },
    {
      "cell_type": "code",
      "metadata": {
        "id": "alX6ZljBaAN8"
      },
      "source": [
        "def OneOneES(dims, optimizer, m_init=None, sigma_init=1, max_iters=1000, c_INC=1.1, C_DEC=0.6, seed=None, save_data=True):\n",
        "    "
      ],
      "execution_count": null,
      "outputs": []
    },
    {
      "cell_type": "markdown",
      "metadata": {
        "id": "e9reyA-DaJqp"
      },
      "source": [
        "# (1+$\\lambda$) ES"
      ]
    },
    {
      "cell_type": "code",
      "metadata": {
        "id": "kUkOpy70aRqC"
      },
      "source": [
        ""
      ],
      "execution_count": null,
      "outputs": []
    },
    {
      "cell_type": "markdown",
      "metadata": {
        "id": "Yhw9t3oRFGfp"
      },
      "source": [
        "# DE"
      ]
    },
    {
      "cell_type": "code",
      "metadata": {
        "id": "ZS20gEBNIXol"
      },
      "source": [
        "def DE(fobj, bounds, F_scale=0.8, cross_prob=0.7, popsize = 20, max_iters=100):\n",
        "    dimensions = len(bounds)\n",
        "\n",
        "    lower_bound, upper_bound = np.array(bounds)\n",
        "\n",
        "    # Gap between lowe rbound and upper bound\n",
        "    diff = np.fabs(lower_bound - upper_bound)\n",
        "\n",
        "    # Intialize a random population with value \\in {lower, upper}\n",
        "    pop = lower_bound + diff * np.random.rand(popsize, dimensions)\n",
        "\n",
        "    fitness = np.asarray([fobj(ind) for ind in pop])\n",
        "\n",
        "    best_idx = np.argmin(fitness)\n",
        "    best = pop[best_idx]\n",
        "\n",
        "    results = []\n",
        "    all_pops = []\n",
        "    results.append(np.copy(best), fitness[best_idx], num_evals)\n",
        "    all_pops.append(np.copy(pop))"
      ],
      "execution_count": null,
      "outputs": []
    },
    {
      "cell_type": "markdown",
      "metadata": {
        "id": "iJcSALIpDd3U"
      },
      "source": [
        "# Testing experiment"
      ]
    },
    {
      "cell_type": "code",
      "metadata": {
        "id": "4I2G2vrODdSK"
      },
      "source": [
        "d = [2, 10]\n",
        "N = [32, 64, 128, 256, 512, 1024]"
      ],
      "execution_count": null,
      "outputs": []
    },
    {
      "cell_type": "code",
      "metadata": {
        "id": "fmgk7tdBFFBu"
      },
      "source": [
        ""
      ],
      "execution_count": null,
      "outputs": []
    }
  ]
}